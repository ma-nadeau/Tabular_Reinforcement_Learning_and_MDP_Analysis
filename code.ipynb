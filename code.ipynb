{
 "cells": [
  {
   "cell_type": "markdown",
   "metadata": {},
   "source": [
    "# Tabular RL"
   ]
  },
  {
   "cell_type": "markdown",
   "metadata": {},
   "source": [
    "### SARSA"
   ]
  },
  {
   "cell_type": "code",
   "execution_count": null,
   "metadata": {},
   "outputs": [],
   "source": [
    "import gym\n",
    "import numpy as np\n",
    "import matplotlib.pyplot as plt\n",
    "from gym.wrappers import StepAPICompatibility"
   ]
  },
  {
   "cell_type": "code",
   "execution_count": null,
   "metadata": {},
   "outputs": [],
   "source": [
    "def softmax(x, temp):\n",
    "  e_x = np.exp((x - np.max(x)) / temp)\n",
    "  return e_x / e_x.sum(axis=0)\n"
   ]
  },
  {
   "cell_type": "code",
   "execution_count": null,
   "metadata": {},
   "outputs": [],
   "source": [
    "class Sarsa:\n",
    "  def __init__(self, env, alpha, gamma, temp):\n",
    "    # write your solution here\n",
    "    self.env = None\n",
    "    self.alpha = None\n",
    "    self.gamma = None\n",
    "    self.temp = None\n",
    "    self.Q = None\n",
    "\n",
    "  def select_action(self, s, greedy=False):\n",
    "    # write your solution here\n",
    "    if greedy:\n",
    "      # if finished training, then choose the optimal policy\n",
    "      return\n",
    "    else:\n",
    "      return\n",
    "\n",
    "  def update(self, s, a, r, s_prime, a_prime, done):\n",
    "    # write your solution here\n",
    "    return\n",
    "\n",
    "\n",
    "class ExpectedSarsa:\n",
    "  def __init__(self, env, alpha, gamma, temp):\n",
    "    # write your solution here\n",
    "    self.env = None\n",
    "    self.alpha = None\n",
    "    self.gamma = None\n",
    "    self.temp = None\n",
    "    self.Q = None\n",
    "    return\n",
    "\n",
    "  def select_action(self, s, greedy=False):\n",
    "    # write your solution here\n",
    "    if greedy:\n",
    "      # if finished training, then choose the optimal policy\n",
    "      return\n",
    "    else:\n",
    "      return\n",
    "\n",
    "  def update(self, s, a, r, s_prime, a_prime, done):\n",
    "    # write your solution here\n",
    "    return\n",
    "\n",
    "# bonus question, optional\n",
    "class Hybrid_Sarsa_Q:\n",
    "  def __init__(self, env, alpha, gamma, temp):\n",
    "    # write your solution here\n",
    "    self.env = None\n",
    "    self.alpha = None\n",
    "    self.gamma = None\n",
    "    self.temp = None\n",
    "    self.Q = None\n",
    "    return\n",
    "\n",
    "  def select_action(self, s, greedy=False):\n",
    "    # write your solution here\n",
    "    if greedy:\n",
    "      # if finished training, then choose the optimal policy\n",
    "      return\n",
    "    else:\n",
    "      return\n",
    "\n",
    "  def update(self, s, a, r, s_prime, a_prime, done):\n",
    "    # write your solution here\n",
    "    return\n"
   ]
  },
  {
   "cell_type": "code",
   "execution_count": null,
   "metadata": {},
   "outputs": [],
   "source": [
    "env_name = 'FrozenLake-v1'\n",
    "env = gym.make(env_name)\n",
    "env = StepAPICompatibility(env, new_step_api=True)\n",
    "print(\"Action space:\", env.action_space)\n",
    "print(\"State space:\", env.observation_space)"
   ]
  },
  {
   "cell_type": "code",
   "execution_count": null,
   "metadata": {},
   "outputs": [],
   "source": [
    "# function that runs each episode\n",
    "\n",
    "# function that runs each hyperparameter setting"
   ]
  }
 ],
 "metadata": {
  "kernelspec": {
   "display_name": "Python 3",
   "language": "python",
   "name": "python3"
  },
  "language_info": {
   "codemirror_mode": {
    "name": "ipython",
    "version": 3
   },
   "file_extension": ".py",
   "mimetype": "text/x-python",
   "name": "python",
   "nbconvert_exporter": "python",
   "pygments_lexer": "ipython3",
   "version": "3.12.3"
  }
 },
 "nbformat": 4,
 "nbformat_minor": 2
}
